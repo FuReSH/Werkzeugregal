{
 "cells": [
  {
   "attachments": {},
   "cell_type": "markdown",
   "metadata": {},
   "source": [
    "# Validate json schemas\n",
    "\n",
    "Uses [check-jsonschema](https://check-jsonschema.readthedocs.io/en/latest/usage.html)\n",
    "\n",
    "See also [jsonschema](https://github.com/python-jsonschema/jsonschema)"
   ]
  },
  {
   "attachments": {},
   "cell_type": "markdown",
   "metadata": {},
   "source": [
    "## Tool"
   ]
  },
  {
   "cell_type": "code",
   "execution_count": 38,
   "metadata": {},
   "outputs": [
    {
     "name": "stdout",
     "output_type": "stream",
     "text": [
      "Defaulting to user installation because normal site-packages is not writeable\n",
      "Requirement already satisfied: check-jsonschema in /home/eckensso/.local/lib/python3.11/site-packages (0.21.0)\n",
      "Requirement already satisfied: ruamel.yaml==0.17.21 in /usr/lib/python3.11/site-packages (from check-jsonschema) (0.17.21)\n",
      "Requirement already satisfied: jsonschema<5.0,>=4 in /usr/lib/python3.11/site-packages (from check-jsonschema) (4.10.0)\n",
      "Requirement already satisfied: requests<3.0 in /usr/lib/python3.11/site-packages (from check-jsonschema) (2.28.1)\n",
      "Requirement already satisfied: click<9,>=8 in /usr/lib/python3.11/site-packages (from check-jsonschema) (8.1.3)\n",
      "Requirement already satisfied: attrs>=17.4.0 in /usr/lib/python3.11/site-packages (from jsonschema<5.0,>=4->check-jsonschema) (22.1.0)\n",
      "Requirement already satisfied: pyrsistent!=0.17.0,!=0.17.1,!=0.17.2,>=0.14.0 in /usr/lib64/python3.11/site-packages (from jsonschema<5.0,>=4->check-jsonschema) (0.18.1)\n",
      "Requirement already satisfied: charset-normalizer<3,>=2 in /usr/lib/python3.11/site-packages (from requests<3.0->check-jsonschema) (2.1.0)\n",
      "Requirement already satisfied: idna<4,>=2.5 in /usr/lib/python3.11/site-packages (from requests<3.0->check-jsonschema) (3.3)\n",
      "Requirement already satisfied: urllib3<1.27,>=1.21.1 in /usr/lib/python3.11/site-packages (from requests<3.0->check-jsonschema) (1.26.12)\n",
      "Note: you may need to restart the kernel to use updated packages.\n"
     ]
    }
   ],
   "source": [
    "%pip install check-jsonschema"
   ]
  },
  {
   "cell_type": "code",
   "execution_count": 36,
   "metadata": {},
   "outputs": [
    {
     "name": "stdout",
     "output_type": "stream",
     "text": [
      "Schema validation errors were encountered.\n",
      "  \u001b[33m../test/tools/docker.tool.yml::$.categories[1]\u001b[0m: 'Q47146' is not one of ['Q17737', 'Q1799072', 'Q1438073', 'Q7397', 'Q95001953', 'Q3966', 'Q9143', 'Q2085518', 'Q151885']\n"
     ]
    }
   ],
   "source": [
    "!check-jsonschema --schemafile ../schemas/tool.schema.json ../test/tools/docker.tool.yml ../test/tools/yaml.tool.yml"
   ]
  },
  {
   "cell_type": "code",
   "execution_count": 31,
   "metadata": {},
   "outputs": [
    {
     "name": "stdout",
     "output_type": "stream",
     "text": [
      "Schema validation errors were encountered.\n",
      "  \u001b[33m../test/tools/docker.tool.yml::$.categories[1]\u001b[0m: 'Q47146' is not one of ['Q17737', 'Q1799072', 'Q1438073', 'Q7397', 'Q95001953', 'Q3966', 'Q9143', 'Q2085518', 'Q151885']\n"
     ]
    }
   ],
   "source": [
    "!check-jsonschema --schemafile ../schemas/tool.schema.json ../test/tools/*"
   ]
  },
  {
   "attachments": {},
   "cell_type": "markdown",
   "metadata": {},
   "source": [
    "### Meta schema check"
   ]
  },
  {
   "cell_type": "code",
   "execution_count": 24,
   "metadata": {},
   "outputs": [
    {
     "name": "stdout",
     "output_type": "stream",
     "text": [
      "\u001b[32mok\u001b[0m -- validation done\n"
     ]
    }
   ],
   "source": [
    "!check-jsonschema --check-metaschema ../schemas/tool.schema.json"
   ]
  },
  {
   "attachments": {},
   "cell_type": "markdown",
   "metadata": {},
   "source": [
    "## Blackbox"
   ]
  },
  {
   "cell_type": "code",
   "execution_count": 21,
   "metadata": {},
   "outputs": [
    {
     "name": "stdout",
     "output_type": "stream",
     "text": [
      "\u001b[32mok\u001b[0m -- validation done\n"
     ]
    }
   ],
   "source": [
    "!check-jsonschema --schemafile ../schemas/blackbox.schema.json ../test/blackboxes/web-scraping.blackbox.yml"
   ]
  },
  {
   "attachments": {},
   "cell_type": "markdown",
   "metadata": {},
   "source": [
    "### Meta schema check"
   ]
  },
  {
   "cell_type": "code",
   "execution_count": 22,
   "metadata": {},
   "outputs": [
    {
     "name": "stdout",
     "output_type": "stream",
     "text": [
      "\u001b[32mok\u001b[0m -- validation done\n"
     ]
    }
   ],
   "source": [
    "!check-jsonschema --check-metaschema ../schemas/blackbox.schema.json"
   ]
  }
 ],
 "metadata": {
  "kernelspec": {
   "display_name": "Python 3",
   "language": "python",
   "name": "python3"
  },
  "language_info": {
   "codemirror_mode": {
    "name": "ipython",
    "version": 3
   },
   "file_extension": ".py",
   "mimetype": "text/x-python",
   "name": "python",
   "nbconvert_exporter": "python",
   "pygments_lexer": "ipython3",
   "version": "3.11.1"
  },
  "orig_nbformat": 4,
  "vscode": {
   "interpreter": {
    "hash": "e7370f93d1d0cde622a1f8e1c04877d8463912d04d973331ad4851f04de6915a"
   }
  }
 },
 "nbformat": 4,
 "nbformat_minor": 2
}
