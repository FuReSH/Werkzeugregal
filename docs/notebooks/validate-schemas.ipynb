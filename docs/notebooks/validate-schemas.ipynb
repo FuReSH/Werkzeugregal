{
 "cells": [
  {
   "attachments": {},
   "cell_type": "markdown",
   "metadata": {},
   "source": [
    "# Validate json schemas\n",
    "\n",
    "Uses [check-jsonschema](https://check-jsonschema.readthedocs.io/en/latest/usage.html)\n",
    "\n",
    "See also [jsonschema](https://github.com/python-jsonschema/jsonschema)"
   ]
  },
  {
   "attachments": {},
   "cell_type": "markdown",
   "metadata": {},
   "source": [
    "## Tool"
   ]
  },
  {
   "cell_type": "code",
   "execution_count": 1,
   "metadata": {},
   "outputs": [
    {
     "name": "stdout",
     "output_type": "stream",
     "text": [
      "Defaulting to user installation because normal site-packages is not writeable\n",
      "Requirement already satisfied: check-jsonschema in /home/eckensso/.local/lib/python3.11/site-packages (0.21.0)\n",
      "Requirement already satisfied: ruamel.yaml==0.17.21 in /usr/lib/python3.11/site-packages (from check-jsonschema) (0.17.21)\n",
      "Requirement already satisfied: jsonschema<5.0,>=4 in /usr/lib/python3.11/site-packages (from check-jsonschema) (4.10.0)\n",
      "Requirement already satisfied: requests<3.0 in /usr/lib/python3.11/site-packages (from check-jsonschema) (2.28.1)\n",
      "Requirement already satisfied: click<9,>=8 in /usr/lib/python3.11/site-packages (from check-jsonschema) (8.1.3)\n",
      "Requirement already satisfied: attrs>=17.4.0 in /usr/lib/python3.11/site-packages (from jsonschema<5.0,>=4->check-jsonschema) (22.1.0)\n",
      "Requirement already satisfied: pyrsistent!=0.17.0,!=0.17.1,!=0.17.2,>=0.14.0 in /usr/lib64/python3.11/site-packages (from jsonschema<5.0,>=4->check-jsonschema) (0.18.1)\n",
      "Requirement already satisfied: charset-normalizer<3,>=2 in /usr/lib/python3.11/site-packages (from requests<3.0->check-jsonschema) (2.1.0)\n",
      "Requirement already satisfied: idna<4,>=2.5 in /usr/lib/python3.11/site-packages (from requests<3.0->check-jsonschema) (3.3)\n",
      "Requirement already satisfied: urllib3<1.27,>=1.21.1 in /usr/lib/python3.11/site-packages (from requests<3.0->check-jsonschema) (1.26.12)\n",
      "Note: you may need to restart the kernel to use updated packages.\n"
     ]
    }
   ],
   "source": [
    "# If check-jsonschema is not installed yet then run\n",
    "%pip install check-jsonschema"
   ]
  },
  {
   "cell_type": "code",
   "execution_count": 2,
   "metadata": {},
   "outputs": [
    {
     "name": "stdout",
     "output_type": "stream",
     "text": [
      "Traceback (most recent call last):\n",
      "  File \"/home/eckensso/.local/bin/check-jsonschema\", line 8, in <module>\n",
      "    sys.exit(main())\n",
      "             ^^^^^^\n",
      "  File \"/usr/lib/python3.11/site-packages/click/core.py\", line 1130, in __call__\n",
      "    return self.main(*args, **kwargs)\n",
      "           ^^^^^^^^^^^^^^^^^^^^^^^^^^\n",
      "  File \"/usr/lib/python3.11/site-packages/click/core.py\", line 1055, in main\n",
      "    rv = self.invoke(ctx)\n",
      "         ^^^^^^^^^^^^^^^^\n",
      "  File \"/usr/lib/python3.11/site-packages/click/core.py\", line 1404, in invoke\n",
      "    return ctx.invoke(self.callback, **ctx.params)\n",
      "           ^^^^^^^^^^^^^^^^^^^^^^^^^^^^^^^^^^^^^^^\n",
      "  File \"/usr/lib/python3.11/site-packages/click/core.py\", line 760, in invoke\n",
      "    return __callback(*args, **kwargs)\n",
      "           ^^^^^^^^^^^^^^^^^^^^^^^^^^^\n",
      "  File \"/home/eckensso/.local/lib/python3.11/site-packages/check_jsonschema/cli.py\", line 285, in main\n",
      "    execute(args)\n",
      "  File \"/home/eckensso/.local/lib/python3.11/site-packages/check_jsonschema/cli.py\", line 333, in execute\n",
      "    ret = checker.run()\n",
      "          ^^^^^^^^^^^^^\n",
      "  File \"/home/eckensso/.local/lib/python3.11/site-packages/check_jsonschema/checker.py\", line 87, in run\n",
      "    self._run()\n",
      "  File \"/home/eckensso/.local/lib/python3.11/site-packages/check_jsonschema/checker.py\", line 77, in _run\n",
      "    result = self._build_result()\n",
      "             ^^^^^^^^^^^^^^^^^^^^\n",
      "  File \"/home/eckensso/.local/lib/python3.11/site-packages/check_jsonschema/checker.py\", line 66, in _build_result\n",
      "    for path, data in self._instance_loader.iter_files():\n",
      "  File \"/home/eckensso/.local/lib/python3.11/site-packages/check_jsonschema/instance_loader.py\", line 31, in iter_files\n",
      "    data: t.Any = self._parsers.parse_file(path, self._default_filetype)\n",
      "                  ^^^^^^^^^^^^^^^^^^^^^^^^^^^^^^^^^^^^^^^^^^^^^^^^^^^^^^\n",
      "  File \"/home/eckensso/.local/lib/python3.11/site-packages/check_jsonschema/parsers/__init__.py\", line 88, in parse_file\n",
      "    with open(path, \"rb\") as fp:\n",
      "         ^^^^^^^^^^^^^^^^\n",
      "FileNotFoundError: [Errno 2] No such file or directory: '../test/tools/docker.tool.yml'\n"
     ]
    }
   ],
   "source": [
    "!check-jsonschema --schemafile ../schemas/tool.schema.json ../test/tools/docker.tool.yml ../test/tools/yaml.tool.yml"
   ]
  },
  {
   "cell_type": "code",
   "execution_count": 3,
   "metadata": {},
   "outputs": [
    {
     "name": "stdout",
     "output_type": "stream",
     "text": [
      "Schema validation errors were encountered.\n",
      "  \u001b[33m../test/tools/exiftool.tool.yml::$\u001b[0m: Additional properties are not allowed ('categories' was unexpected)\n",
      "  \u001b[33m../test/tools/exiftool.tool.yml::$\u001b[0m: 'classification' is a required property\n",
      "  \u001b[33m../test/tools/pmaw.tool.yml::$\u001b[0m: Additional properties are not allowed ('categories' was unexpected)\n",
      "  \u001b[33m../test/tools/pmaw.tool.yml::$\u001b[0m: 'classification' is a required property\n"
     ]
    }
   ],
   "source": [
    "!check-jsonschema --schemafile ../schemas/tool.schema.json ../test/tools/*"
   ]
  },
  {
   "attachments": {},
   "cell_type": "markdown",
   "metadata": {},
   "source": [
    "### Meta schema check"
   ]
  },
  {
   "cell_type": "code",
   "execution_count": 4,
   "metadata": {},
   "outputs": [
    {
     "name": "stdout",
     "output_type": "stream",
     "text": [
      "\u001b[32mok\u001b[0m -- validation done\n"
     ]
    }
   ],
   "source": [
    "!check-jsonschema --check-metaschema ../schemas/tool.schema.json"
   ]
  },
  {
   "attachments": {},
   "cell_type": "markdown",
   "metadata": {},
   "source": [
    "## Blackbox"
   ]
  },
  {
   "cell_type": "code",
   "execution_count": null,
   "metadata": {},
   "outputs": [],
   "source": [
    "!check-jsonschema --schemafile ../schemas/blackbox.schema.json ../test/blackboxes/web-scraping.blackbox.yml"
   ]
  },
  {
   "attachments": {},
   "cell_type": "markdown",
   "metadata": {},
   "source": [
    "### Meta schema check"
   ]
  },
  {
   "cell_type": "code",
   "execution_count": 5,
   "metadata": {},
   "outputs": [
    {
     "name": "stdout",
     "output_type": "stream",
     "text": [
      "\u001b[32mok\u001b[0m -- validation done\n"
     ]
    }
   ],
   "source": [
    "!check-jsonschema --check-metaschema ../schemas/blackbox.schema.json"
   ]
  }
 ],
 "metadata": {
  "kernelspec": {
   "display_name": "Python 3",
   "language": "python",
   "name": "python3"
  },
  "language_info": {
   "codemirror_mode": {
    "name": "ipython",
    "version": 3
   },
   "file_extension": ".py",
   "mimetype": "text/x-python",
   "name": "python",
   "nbconvert_exporter": "python",
   "pygments_lexer": "ipython3",
   "version": "3.11.1 (main, Jan  6 2023, 00:00:00) [GCC 12.2.1 20221121 (Red Hat 12.2.1-4)]"
  },
  "orig_nbformat": 4,
  "vscode": {
   "interpreter": {
    "hash": "e7370f93d1d0cde622a1f8e1c04877d8463912d04d973331ad4851f04de6915a"
   }
  }
 },
 "nbformat": 4,
 "nbformat_minor": 2
}
